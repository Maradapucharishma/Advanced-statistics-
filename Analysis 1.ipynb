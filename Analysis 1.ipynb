{
 "cells": [
  {
   "cell_type": "markdown",
   "id": "16b73015",
   "metadata": {},
   "source": [
    "## Analysis 1\n",
    "1) Perform general Data analysis\n",
    "2)Can you tell me the Distribution of Vehicles based on Year of Registration with the help of a plot\n",
    "3) Create a plot based on the Variation of the price range by the vehicle type\n",
    "4) Find out Total count of vehicles by type available on ebay for sale.As well as create a visualization for the client\n",
    "5) Is there any relationship between dollar_price and kilometer? (Explain with appropriate analysis)"
   ]
  },
  {
   "cell_type": "code",
   "execution_count": 1,
   "id": "9501338f",
   "metadata": {},
   "outputs": [],
   "source": [
    "import pandas as pd\n",
    "import numpy as np\n",
    "from scipy import stats as st\n",
    "import matplotlib.pyplot as plt\n",
    "import seaborn as sn"
   ]
  },
  {
   "cell_type": "code",
   "execution_count": 2,
   "id": "560adc86",
   "metadata": {},
   "outputs": [],
   "source": [
    "df = pd.read_csv(r\"C:\\Users\\CHARISHMA\\Downloads\\autos.csv\", encoding = 'unicode escape')"
   ]
  },
  {
   "cell_type": "code",
   "execution_count": 218,
   "id": "27b82346",
   "metadata": {},
   "outputs": [
    {
     "data": {
      "text/plain": [
       "(371528, 20)"
      ]
     },
     "execution_count": 218,
     "metadata": {},
     "output_type": "execute_result"
    }
   ],
   "source": [
    "df.shape"
   ]
  },
  {
   "cell_type": "code",
   "execution_count": 219,
   "id": "07cd7a7e",
   "metadata": {},
   "outputs": [
    {
     "data": {
      "text/html": [
       "<div>\n",
       "<style scoped>\n",
       "    .dataframe tbody tr th:only-of-type {\n",
       "        vertical-align: middle;\n",
       "    }\n",
       "\n",
       "    .dataframe tbody tr th {\n",
       "        vertical-align: top;\n",
       "    }\n",
       "\n",
       "    .dataframe thead th {\n",
       "        text-align: right;\n",
       "    }\n",
       "</style>\n",
       "<table border=\"1\" class=\"dataframe\">\n",
       "  <thead>\n",
       "    <tr style=\"text-align: right;\">\n",
       "      <th></th>\n",
       "      <th>dateCrawled</th>\n",
       "      <th>name</th>\n",
       "      <th>seller</th>\n",
       "      <th>offerType</th>\n",
       "      <th>price</th>\n",
       "      <th>abtest</th>\n",
       "      <th>vehicleType</th>\n",
       "      <th>yearOfRegistration</th>\n",
       "      <th>gearbox</th>\n",
       "      <th>powerPS</th>\n",
       "      <th>model</th>\n",
       "      <th>kilometer</th>\n",
       "      <th>monthOfRegistration</th>\n",
       "      <th>fuelType</th>\n",
       "      <th>brand</th>\n",
       "      <th>notRepairedDamage</th>\n",
       "      <th>dateCreated</th>\n",
       "      <th>nrOfPictures</th>\n",
       "      <th>postalCode</th>\n",
       "      <th>lastSeen</th>\n",
       "    </tr>\n",
       "  </thead>\n",
       "  <tbody>\n",
       "    <tr>\n",
       "      <th>0</th>\n",
       "      <td>2016-03-24 11:52:17</td>\n",
       "      <td>Golf_3_1.6</td>\n",
       "      <td>privat</td>\n",
       "      <td>Angebot</td>\n",
       "      <td>480</td>\n",
       "      <td>test</td>\n",
       "      <td>NaN</td>\n",
       "      <td>1993</td>\n",
       "      <td>manuell</td>\n",
       "      <td>0</td>\n",
       "      <td>golf</td>\n",
       "      <td>150000</td>\n",
       "      <td>0</td>\n",
       "      <td>benzin</td>\n",
       "      <td>volkswagen</td>\n",
       "      <td>NaN</td>\n",
       "      <td>2016-03-24 00:00:00</td>\n",
       "      <td>0</td>\n",
       "      <td>70435</td>\n",
       "      <td>2016-04-07 03:16:57</td>\n",
       "    </tr>\n",
       "    <tr>\n",
       "      <th>1</th>\n",
       "      <td>2016-03-24 10:58:45</td>\n",
       "      <td>A5_Sportback_2.7_Tdi</td>\n",
       "      <td>privat</td>\n",
       "      <td>Angebot</td>\n",
       "      <td>18300</td>\n",
       "      <td>test</td>\n",
       "      <td>coupe</td>\n",
       "      <td>2011</td>\n",
       "      <td>manuell</td>\n",
       "      <td>190</td>\n",
       "      <td>NaN</td>\n",
       "      <td>125000</td>\n",
       "      <td>5</td>\n",
       "      <td>diesel</td>\n",
       "      <td>audi</td>\n",
       "      <td>ja</td>\n",
       "      <td>2016-03-24 00:00:00</td>\n",
       "      <td>0</td>\n",
       "      <td>66954</td>\n",
       "      <td>2016-04-07 01:46:50</td>\n",
       "    </tr>\n",
       "    <tr>\n",
       "      <th>2</th>\n",
       "      <td>2016-03-14 12:52:21</td>\n",
       "      <td>Jeep_Grand_Cherokee_\"Overland\"</td>\n",
       "      <td>privat</td>\n",
       "      <td>Angebot</td>\n",
       "      <td>9800</td>\n",
       "      <td>test</td>\n",
       "      <td>suv</td>\n",
       "      <td>2004</td>\n",
       "      <td>automatik</td>\n",
       "      <td>163</td>\n",
       "      <td>grand</td>\n",
       "      <td>125000</td>\n",
       "      <td>8</td>\n",
       "      <td>diesel</td>\n",
       "      <td>jeep</td>\n",
       "      <td>NaN</td>\n",
       "      <td>2016-03-14 00:00:00</td>\n",
       "      <td>0</td>\n",
       "      <td>90480</td>\n",
       "      <td>2016-04-05 12:47:46</td>\n",
       "    </tr>\n",
       "    <tr>\n",
       "      <th>3</th>\n",
       "      <td>2016-03-17 16:54:04</td>\n",
       "      <td>GOLF_4_1_4__3TÜRER</td>\n",
       "      <td>privat</td>\n",
       "      <td>Angebot</td>\n",
       "      <td>1500</td>\n",
       "      <td>test</td>\n",
       "      <td>kleinwagen</td>\n",
       "      <td>2001</td>\n",
       "      <td>manuell</td>\n",
       "      <td>75</td>\n",
       "      <td>golf</td>\n",
       "      <td>150000</td>\n",
       "      <td>6</td>\n",
       "      <td>benzin</td>\n",
       "      <td>volkswagen</td>\n",
       "      <td>nein</td>\n",
       "      <td>2016-03-17 00:00:00</td>\n",
       "      <td>0</td>\n",
       "      <td>91074</td>\n",
       "      <td>2016-03-17 17:40:17</td>\n",
       "    </tr>\n",
       "    <tr>\n",
       "      <th>4</th>\n",
       "      <td>2016-03-31 17:25:20</td>\n",
       "      <td>Skoda_Fabia_1.4_TDI_PD_Classic</td>\n",
       "      <td>privat</td>\n",
       "      <td>Angebot</td>\n",
       "      <td>3600</td>\n",
       "      <td>test</td>\n",
       "      <td>kleinwagen</td>\n",
       "      <td>2008</td>\n",
       "      <td>manuell</td>\n",
       "      <td>69</td>\n",
       "      <td>fabia</td>\n",
       "      <td>90000</td>\n",
       "      <td>7</td>\n",
       "      <td>diesel</td>\n",
       "      <td>skoda</td>\n",
       "      <td>nein</td>\n",
       "      <td>2016-03-31 00:00:00</td>\n",
       "      <td>0</td>\n",
       "      <td>60437</td>\n",
       "      <td>2016-04-06 10:17:21</td>\n",
       "    </tr>\n",
       "  </tbody>\n",
       "</table>\n",
       "</div>"
      ],
      "text/plain": [
       "           dateCrawled                            name  seller offerType   \n",
       "0  2016-03-24 11:52:17                      Golf_3_1.6  privat   Angebot  \\\n",
       "1  2016-03-24 10:58:45            A5_Sportback_2.7_Tdi  privat   Angebot   \n",
       "2  2016-03-14 12:52:21  Jeep_Grand_Cherokee_\"Overland\"  privat   Angebot   \n",
       "3  2016-03-17 16:54:04              GOLF_4_1_4__3TÜRER  privat   Angebot   \n",
       "4  2016-03-31 17:25:20  Skoda_Fabia_1.4_TDI_PD_Classic  privat   Angebot   \n",
       "\n",
       "   price abtest vehicleType  yearOfRegistration    gearbox  powerPS  model   \n",
       "0    480   test         NaN                1993    manuell        0   golf  \\\n",
       "1  18300   test       coupe                2011    manuell      190    NaN   \n",
       "2   9800   test         suv                2004  automatik      163  grand   \n",
       "3   1500   test  kleinwagen                2001    manuell       75   golf   \n",
       "4   3600   test  kleinwagen                2008    manuell       69  fabia   \n",
       "\n",
       "   kilometer  monthOfRegistration fuelType       brand notRepairedDamage   \n",
       "0     150000                    0   benzin  volkswagen               NaN  \\\n",
       "1     125000                    5   diesel        audi                ja   \n",
       "2     125000                    8   diesel        jeep               NaN   \n",
       "3     150000                    6   benzin  volkswagen              nein   \n",
       "4      90000                    7   diesel       skoda              nein   \n",
       "\n",
       "           dateCreated  nrOfPictures  postalCode             lastSeen  \n",
       "0  2016-03-24 00:00:00             0       70435  2016-04-07 03:16:57  \n",
       "1  2016-03-24 00:00:00             0       66954  2016-04-07 01:46:50  \n",
       "2  2016-03-14 00:00:00             0       90480  2016-04-05 12:47:46  \n",
       "3  2016-03-17 00:00:00             0       91074  2016-03-17 17:40:17  \n",
       "4  2016-03-31 00:00:00             0       60437  2016-04-06 10:17:21  "
      ]
     },
     "execution_count": 219,
     "metadata": {},
     "output_type": "execute_result"
    }
   ],
   "source": [
    "df.head()"
   ]
  },
  {
   "cell_type": "markdown",
   "id": "fd1da1b3",
   "metadata": {},
   "source": [
    "## cleaning"
   ]
  },
  {
   "cell_type": "markdown",
   "id": "060bfe58",
   "metadata": {},
   "source": [
    "#### Duplicate values"
   ]
  },
  {
   "cell_type": "code",
   "execution_count": 220,
   "id": "07d37fad",
   "metadata": {},
   "outputs": [
    {
     "data": {
      "text/html": [
       "<div>\n",
       "<style scoped>\n",
       "    .dataframe tbody tr th:only-of-type {\n",
       "        vertical-align: middle;\n",
       "    }\n",
       "\n",
       "    .dataframe tbody tr th {\n",
       "        vertical-align: top;\n",
       "    }\n",
       "\n",
       "    .dataframe thead th {\n",
       "        text-align: right;\n",
       "    }\n",
       "</style>\n",
       "<table border=\"1\" class=\"dataframe\">\n",
       "  <thead>\n",
       "    <tr style=\"text-align: right;\">\n",
       "      <th></th>\n",
       "      <th>dateCrawled</th>\n",
       "      <th>name</th>\n",
       "      <th>seller</th>\n",
       "      <th>offerType</th>\n",
       "      <th>price</th>\n",
       "      <th>abtest</th>\n",
       "      <th>vehicleType</th>\n",
       "      <th>yearOfRegistration</th>\n",
       "      <th>gearbox</th>\n",
       "      <th>powerPS</th>\n",
       "      <th>model</th>\n",
       "      <th>kilometer</th>\n",
       "      <th>monthOfRegistration</th>\n",
       "      <th>fuelType</th>\n",
       "      <th>brand</th>\n",
       "      <th>notRepairedDamage</th>\n",
       "      <th>dateCreated</th>\n",
       "      <th>nrOfPictures</th>\n",
       "      <th>postalCode</th>\n",
       "      <th>lastSeen</th>\n",
       "    </tr>\n",
       "  </thead>\n",
       "  <tbody>\n",
       "    <tr>\n",
       "      <th>179448</th>\n",
       "      <td>2016-03-08 18:42:48</td>\n",
       "      <td>Mercedes_Benz_CLK_Coupe_230_Kompressor_Sport</td>\n",
       "      <td>privat</td>\n",
       "      <td>Angebot</td>\n",
       "      <td>1799</td>\n",
       "      <td>test</td>\n",
       "      <td>coupe</td>\n",
       "      <td>1999</td>\n",
       "      <td>automatik</td>\n",
       "      <td>193</td>\n",
       "      <td>clk</td>\n",
       "      <td>20000</td>\n",
       "      <td>7</td>\n",
       "      <td>benzin</td>\n",
       "      <td>mercedes_benz</td>\n",
       "      <td>nein</td>\n",
       "      <td>2016-03-08 00:00:00</td>\n",
       "      <td>0</td>\n",
       "      <td>89518</td>\n",
       "      <td>2016-03-09 09:46:57</td>\n",
       "    </tr>\n",
       "    <tr>\n",
       "      <th>242556</th>\n",
       "      <td>2016-03-28 00:56:10</td>\n",
       "      <td>Suzuki_Ignis</td>\n",
       "      <td>privat</td>\n",
       "      <td>Angebot</td>\n",
       "      <td>1000</td>\n",
       "      <td>control</td>\n",
       "      <td>kleinwagen</td>\n",
       "      <td>2002</td>\n",
       "      <td>manuell</td>\n",
       "      <td>83</td>\n",
       "      <td>andere</td>\n",
       "      <td>150000</td>\n",
       "      <td>1</td>\n",
       "      <td>benzin</td>\n",
       "      <td>suzuki</td>\n",
       "      <td>nein</td>\n",
       "      <td>2016-03-28 00:00:00</td>\n",
       "      <td>0</td>\n",
       "      <td>66589</td>\n",
       "      <td>2016-03-28 08:46:21</td>\n",
       "    </tr>\n",
       "    <tr>\n",
       "      <th>270719</th>\n",
       "      <td>2016-04-03 09:01:15</td>\n",
       "      <td>Mercedes_Benz_CLK_320_W209</td>\n",
       "      <td>privat</td>\n",
       "      <td>Angebot</td>\n",
       "      <td>4699</td>\n",
       "      <td>test</td>\n",
       "      <td>coupe</td>\n",
       "      <td>2003</td>\n",
       "      <td>automatik</td>\n",
       "      <td>218</td>\n",
       "      <td>clk</td>\n",
       "      <td>125000</td>\n",
       "      <td>6</td>\n",
       "      <td>benzin</td>\n",
       "      <td>mercedes_benz</td>\n",
       "      <td>ja</td>\n",
       "      <td>2016-04-03 00:00:00</td>\n",
       "      <td>0</td>\n",
       "      <td>75196</td>\n",
       "      <td>2016-04-07 09:44:54</td>\n",
       "    </tr>\n",
       "    <tr>\n",
       "      <th>341474</th>\n",
       "      <td>2016-03-18 18:46:15</td>\n",
       "      <td>Volkswagen_Passat_Variant_1.9_TDI_Highline</td>\n",
       "      <td>privat</td>\n",
       "      <td>Angebot</td>\n",
       "      <td>1999</td>\n",
       "      <td>control</td>\n",
       "      <td>kombi</td>\n",
       "      <td>2001</td>\n",
       "      <td>manuell</td>\n",
       "      <td>131</td>\n",
       "      <td>passat</td>\n",
       "      <td>150000</td>\n",
       "      <td>7</td>\n",
       "      <td>diesel</td>\n",
       "      <td>volkswagen</td>\n",
       "      <td>nein</td>\n",
       "      <td>2016-03-18 00:00:00</td>\n",
       "      <td>0</td>\n",
       "      <td>36391</td>\n",
       "      <td>2016-03-18 18:46:15</td>\n",
       "    </tr>\n",
       "  </tbody>\n",
       "</table>\n",
       "</div>"
      ],
      "text/plain": [
       "                dateCrawled                                          name   \n",
       "179448  2016-03-08 18:42:48  Mercedes_Benz_CLK_Coupe_230_Kompressor_Sport  \\\n",
       "242556  2016-03-28 00:56:10                                  Suzuki_Ignis   \n",
       "270719  2016-04-03 09:01:15                    Mercedes_Benz_CLK_320_W209   \n",
       "341474  2016-03-18 18:46:15    Volkswagen_Passat_Variant_1.9_TDI_Highline   \n",
       "\n",
       "        seller offerType  price   abtest vehicleType  yearOfRegistration   \n",
       "179448  privat   Angebot   1799     test       coupe                1999  \\\n",
       "242556  privat   Angebot   1000  control  kleinwagen                2002   \n",
       "270719  privat   Angebot   4699     test       coupe                2003   \n",
       "341474  privat   Angebot   1999  control       kombi                2001   \n",
       "\n",
       "          gearbox  powerPS   model  kilometer  monthOfRegistration fuelType   \n",
       "179448  automatik      193     clk      20000                    7   benzin  \\\n",
       "242556    manuell       83  andere     150000                    1   benzin   \n",
       "270719  automatik      218     clk     125000                    6   benzin   \n",
       "341474    manuell      131  passat     150000                    7   diesel   \n",
       "\n",
       "                brand notRepairedDamage          dateCreated  nrOfPictures   \n",
       "179448  mercedes_benz              nein  2016-03-08 00:00:00             0  \\\n",
       "242556         suzuki              nein  2016-03-28 00:00:00             0   \n",
       "270719  mercedes_benz                ja  2016-04-03 00:00:00             0   \n",
       "341474     volkswagen              nein  2016-03-18 00:00:00             0   \n",
       "\n",
       "        postalCode             lastSeen  \n",
       "179448       89518  2016-03-09 09:46:57  \n",
       "242556       66589  2016-03-28 08:46:21  \n",
       "270719       75196  2016-04-07 09:44:54  \n",
       "341474       36391  2016-03-18 18:46:15  "
      ]
     },
     "execution_count": 220,
     "metadata": {},
     "output_type": "execute_result"
    }
   ],
   "source": [
    "df[df.duplicated()]"
   ]
  },
  {
   "cell_type": "code",
   "execution_count": 221,
   "id": "fab4d662",
   "metadata": {},
   "outputs": [
    {
     "data": {
      "text/plain": [
       "4"
      ]
     },
     "execution_count": 221,
     "metadata": {},
     "output_type": "execute_result"
    }
   ],
   "source": [
    "df.duplicated().sum()"
   ]
  },
  {
   "cell_type": "code",
   "execution_count": 222,
   "id": "e2d5e742",
   "metadata": {},
   "outputs": [],
   "source": [
    "df.drop_duplicates(keep='first',inplace=True)"
   ]
  },
  {
   "cell_type": "code",
   "execution_count": 223,
   "id": "8a4e669a",
   "metadata": {},
   "outputs": [
    {
     "data": {
      "text/plain": [
       "0"
      ]
     },
     "execution_count": 223,
     "metadata": {},
     "output_type": "execute_result"
    }
   ],
   "source": [
    "df.duplicated().sum()"
   ]
  },
  {
   "cell_type": "code",
   "execution_count": 224,
   "id": "cc9949c0",
   "metadata": {},
   "outputs": [],
   "source": [
    "df.drop('notRepairedDamage',inplace=True,axis=1)"
   ]
  },
  {
   "cell_type": "code",
   "execution_count": 225,
   "id": "f0807747",
   "metadata": {},
   "outputs": [
    {
     "data": {
      "text/plain": [
       "dateCrawled                0\n",
       "name                       0\n",
       "seller                     0\n",
       "offerType                  0\n",
       "price                      0\n",
       "abtest                     0\n",
       "vehicleType            37869\n",
       "yearOfRegistration         0\n",
       "gearbox                20209\n",
       "powerPS                    0\n",
       "model                  20484\n",
       "kilometer                  0\n",
       "monthOfRegistration        0\n",
       "fuelType               33386\n",
       "brand                      0\n",
       "dateCreated                0\n",
       "nrOfPictures               0\n",
       "postalCode                 0\n",
       "lastSeen                   0\n",
       "dtype: int64"
      ]
     },
     "execution_count": 225,
     "metadata": {},
     "output_type": "execute_result"
    }
   ],
   "source": [
    "df.isna().sum()"
   ]
  },
  {
   "cell_type": "code",
   "execution_count": 226,
   "id": "358e0307",
   "metadata": {},
   "outputs": [
    {
     "name": "stdout",
     "output_type": "stream",
     "text": [
      "<class 'pandas.core.frame.DataFrame'>\n",
      "Index: 371524 entries, 0 to 371527\n",
      "Data columns (total 19 columns):\n",
      " #   Column               Non-Null Count   Dtype \n",
      "---  ------               --------------   ----- \n",
      " 0   dateCrawled          371524 non-null  object\n",
      " 1   name                 371524 non-null  object\n",
      " 2   seller               371524 non-null  object\n",
      " 3   offerType            371524 non-null  object\n",
      " 4   price                371524 non-null  int64 \n",
      " 5   abtest               371524 non-null  object\n",
      " 6   vehicleType          333655 non-null  object\n",
      " 7   yearOfRegistration   371524 non-null  int64 \n",
      " 8   gearbox              351315 non-null  object\n",
      " 9   powerPS              371524 non-null  int64 \n",
      " 10  model                351040 non-null  object\n",
      " 11  kilometer            371524 non-null  int64 \n",
      " 12  monthOfRegistration  371524 non-null  int64 \n",
      " 13  fuelType             338138 non-null  object\n",
      " 14  brand                371524 non-null  object\n",
      " 15  dateCreated          371524 non-null  object\n",
      " 16  nrOfPictures         371524 non-null  int64 \n",
      " 17  postalCode           371524 non-null  int64 \n",
      " 18  lastSeen             371524 non-null  object\n",
      "dtypes: int64(7), object(12)\n",
      "memory usage: 56.7+ MB\n"
     ]
    }
   ],
   "source": [
    "df.info()"
   ]
  },
  {
   "cell_type": "code",
   "execution_count": 227,
   "id": "0e06315e",
   "metadata": {},
   "outputs": [],
   "source": [
    "df.drop('nrOfPictures',inplace=True,axis=1)"
   ]
  },
  {
   "cell_type": "markdown",
   "id": "82042ada",
   "metadata": {},
   "source": [
    "## Missing values"
   ]
  },
  {
   "cell_type": "code",
   "execution_count": 228,
   "id": "86f6dd5e",
   "metadata": {},
   "outputs": [
    {
     "data": {
      "text/plain": [
       "dateCrawled                0\n",
       "name                       0\n",
       "seller                     0\n",
       "offerType                  0\n",
       "price                      0\n",
       "abtest                     0\n",
       "vehicleType            37869\n",
       "yearOfRegistration         0\n",
       "gearbox                20209\n",
       "powerPS                    0\n",
       "model                  20484\n",
       "kilometer                  0\n",
       "monthOfRegistration        0\n",
       "fuelType               33386\n",
       "brand                      0\n",
       "dateCreated                0\n",
       "postalCode                 0\n",
       "lastSeen                   0\n",
       "dtype: int64"
      ]
     },
     "execution_count": 228,
     "metadata": {},
     "output_type": "execute_result"
    }
   ],
   "source": [
    "df.isna().sum()"
   ]
  },
  {
   "cell_type": "code",
   "execution_count": 229,
   "id": "3bc4d794",
   "metadata": {},
   "outputs": [],
   "source": [
    "df.dropna(axis=0,inplace=True)"
   ]
  },
  {
   "cell_type": "code",
   "execution_count": 230,
   "id": "6dfe0825",
   "metadata": {},
   "outputs": [
    {
     "data": {
      "text/plain": [
       "(299860, 18)"
      ]
     },
     "execution_count": 230,
     "metadata": {},
     "output_type": "execute_result"
    }
   ],
   "source": [
    "df.shape"
   ]
  },
  {
   "cell_type": "markdown",
   "id": "8bdab2bf",
   "metadata": {},
   "source": [
    "## Structural errors"
   ]
  },
  {
   "cell_type": "code",
   "execution_count": 231,
   "id": "ac77a6ab",
   "metadata": {},
   "outputs": [],
   "source": [
    "yr = df[(df['yearOfRegistration'] < 1900) | (df['yearOfRegistration'] >2023)]\n",
    "\n",
    "df.drop(yr.index, inplace = True)\n",
    "\n",
    "df['powerPS'] = np.where((df['powerPS'] < 1) | (df['powerPS'] >2400), df['powerPS'].median(), df['powerPS'] )\n",
    "\n",
    "df['monthOfRegistration'] = np.where((df['monthOfRegistration'] == 0), df['monthOfRegistration'].mode()[0], df['monthOfRegistration'] )\n",
    "\n",
    "df.drop(df[(df['price']==0) | (df['price']>4000000) | (df['price']< 500)].index, inplace = True)"
   ]
  },
  {
   "cell_type": "code",
   "execution_count": 232,
   "id": "45903177",
   "metadata": {},
   "outputs": [
    {
     "data": {
      "text/plain": [
       "array([2004, 2001, 2008, 1995, 2014, 2005, 2011, 2007, 2009, 2002, 1990,\n",
       "       1981, 2003, 1984, 2006, 1999, 1998, 2012, 2010, 2000, 1992, 1993,\n",
       "       2013, 1994, 1997, 1991, 1996, 1989, 2015, 1968, 1982, 1983, 1959,\n",
       "       1973, 1969, 1971, 1987, 1988, 1967, 2016, 1980, 1986, 1985, 1965,\n",
       "       1945, 1974, 1979, 1955, 1978, 1976, 1972, 1977, 1966, 1975, 1970,\n",
       "       1937, 1961, 1963, 1936, 1962, 1960, 1964, 1951, 1910, 1953, 1954,\n",
       "       1957, 1958, 1956, 2017, 1941, 1950, 1948, 1932, 1952, 1927, 1931,\n",
       "       2018, 1949, 1942, 1923, 1930, 1943, 1938, 1934, 1935, 1939, 1929,\n",
       "       1928, 1933, 1947], dtype=int64)"
      ]
     },
     "execution_count": 232,
     "metadata": {},
     "output_type": "execute_result"
    }
   ],
   "source": [
    "df['yearOfRegistration'].unique()"
   ]
  },
  {
   "cell_type": "code",
   "execution_count": 233,
   "id": "db67787a",
   "metadata": {},
   "outputs": [
    {
     "data": {
      "text/plain": [
       "(280557, 18)"
      ]
     },
     "execution_count": 233,
     "metadata": {},
     "output_type": "execute_result"
    }
   ],
   "source": [
    "df.shape"
   ]
  },
  {
   "cell_type": "markdown",
   "id": "2aaa4fea",
   "metadata": {},
   "source": [
    "## Type casting"
   ]
  },
  {
   "cell_type": "code",
   "execution_count": 234,
   "id": "25b6d5e7",
   "metadata": {},
   "outputs": [],
   "source": [
    "df['dateCrawled']=pd.to_datetime(df['dateCrawled'])\n",
    "df[\"dateCreated\"]=pd.to_datetime(df[\"dateCreated\"])\n",
    "df[\"lastSeen\"]=pd.to_datetime(df[\"lastSeen\"])"
   ]
  },
  {
   "cell_type": "code",
   "execution_count": 235,
   "id": "a2d5653a",
   "metadata": {},
   "outputs": [
    {
     "name": "stdout",
     "output_type": "stream",
     "text": [
      "<class 'pandas.core.frame.DataFrame'>\n",
      "Index: 280557 entries, 2 to 371527\n",
      "Data columns (total 18 columns):\n",
      " #   Column               Non-Null Count   Dtype         \n",
      "---  ------               --------------   -----         \n",
      " 0   dateCrawled          280557 non-null  datetime64[ns]\n",
      " 1   name                 280557 non-null  object        \n",
      " 2   seller               280557 non-null  object        \n",
      " 3   offerType            280557 non-null  object        \n",
      " 4   price                280557 non-null  int64         \n",
      " 5   abtest               280557 non-null  object        \n",
      " 6   vehicleType          280557 non-null  object        \n",
      " 7   yearOfRegistration   280557 non-null  int64         \n",
      " 8   gearbox              280557 non-null  object        \n",
      " 9   powerPS              280557 non-null  float64       \n",
      " 10  model                280557 non-null  object        \n",
      " 11  kilometer            280557 non-null  int64         \n",
      " 12  monthOfRegistration  280557 non-null  int64         \n",
      " 13  fuelType             280557 non-null  object        \n",
      " 14  brand                280557 non-null  object        \n",
      " 15  dateCreated          280557 non-null  datetime64[ns]\n",
      " 16  postalCode           280557 non-null  int64         \n",
      " 17  lastSeen             280557 non-null  datetime64[ns]\n",
      "dtypes: datetime64[ns](3), float64(1), int64(5), object(9)\n",
      "memory usage: 40.7+ MB\n"
     ]
    }
   ],
   "source": [
    "df.info()"
   ]
  },
  {
   "cell_type": "code",
   "execution_count": 236,
   "id": "165ac591",
   "metadata": {},
   "outputs": [
    {
     "data": {
      "text/plain": [
       "(280557, 18)"
      ]
     },
     "execution_count": 236,
     "metadata": {},
     "output_type": "execute_result"
    }
   ],
   "source": [
    "df.shape"
   ]
  },
  {
   "cell_type": "code",
   "execution_count": 237,
   "id": "cc2ba030",
   "metadata": {},
   "outputs": [],
   "source": [
    "df.to_csv('autocsvstats.csv')"
   ]
  },
  {
   "cell_type": "code",
   "execution_count": 3,
   "id": "2a902954",
   "metadata": {},
   "outputs": [],
   "source": [
    "df = pd.read_csv(r\"C:\\Users\\CHARISHMA\\Advanced Data analysis project\\autocsvstats.csv\")"
   ]
  },
  {
   "cell_type": "code",
   "execution_count": 4,
   "id": "504bb98f",
   "metadata": {},
   "outputs": [
    {
     "data": {
      "text/html": [
       "<div>\n",
       "<style scoped>\n",
       "    .dataframe tbody tr th:only-of-type {\n",
       "        vertical-align: middle;\n",
       "    }\n",
       "\n",
       "    .dataframe tbody tr th {\n",
       "        vertical-align: top;\n",
       "    }\n",
       "\n",
       "    .dataframe thead th {\n",
       "        text-align: right;\n",
       "    }\n",
       "</style>\n",
       "<table border=\"1\" class=\"dataframe\">\n",
       "  <thead>\n",
       "    <tr style=\"text-align: right;\">\n",
       "      <th></th>\n",
       "      <th>Unnamed: 0</th>\n",
       "      <th>dateCrawled</th>\n",
       "      <th>name</th>\n",
       "      <th>seller</th>\n",
       "      <th>offerType</th>\n",
       "      <th>price</th>\n",
       "      <th>abtest</th>\n",
       "      <th>vehicleType</th>\n",
       "      <th>yearOfRegistration</th>\n",
       "      <th>gearbox</th>\n",
       "      <th>powerPS</th>\n",
       "      <th>model</th>\n",
       "      <th>kilometer</th>\n",
       "      <th>monthOfRegistration</th>\n",
       "      <th>fuelType</th>\n",
       "      <th>brand</th>\n",
       "      <th>dateCreated</th>\n",
       "      <th>postalCode</th>\n",
       "      <th>lastSeen</th>\n",
       "    </tr>\n",
       "  </thead>\n",
       "  <tbody>\n",
       "    <tr>\n",
       "      <th>0</th>\n",
       "      <td>2</td>\n",
       "      <td>2016-03-14 12:52:21</td>\n",
       "      <td>Jeep_Grand_Cherokee_\"Overland\"</td>\n",
       "      <td>privat</td>\n",
       "      <td>Angebot</td>\n",
       "      <td>9800</td>\n",
       "      <td>test</td>\n",
       "      <td>suv</td>\n",
       "      <td>2004</td>\n",
       "      <td>automatik</td>\n",
       "      <td>163.0</td>\n",
       "      <td>grand</td>\n",
       "      <td>125000</td>\n",
       "      <td>8</td>\n",
       "      <td>diesel</td>\n",
       "      <td>jeep</td>\n",
       "      <td>2016-03-14</td>\n",
       "      <td>90480</td>\n",
       "      <td>2016-04-05 12:47:46</td>\n",
       "    </tr>\n",
       "    <tr>\n",
       "      <th>1</th>\n",
       "      <td>3</td>\n",
       "      <td>2016-03-17 16:54:04</td>\n",
       "      <td>GOLF_4_1_4__3TÜRER</td>\n",
       "      <td>privat</td>\n",
       "      <td>Angebot</td>\n",
       "      <td>1500</td>\n",
       "      <td>test</td>\n",
       "      <td>kleinwagen</td>\n",
       "      <td>2001</td>\n",
       "      <td>manuell</td>\n",
       "      <td>75.0</td>\n",
       "      <td>golf</td>\n",
       "      <td>150000</td>\n",
       "      <td>6</td>\n",
       "      <td>benzin</td>\n",
       "      <td>volkswagen</td>\n",
       "      <td>2016-03-17</td>\n",
       "      <td>91074</td>\n",
       "      <td>2016-03-17 17:40:17</td>\n",
       "    </tr>\n",
       "    <tr>\n",
       "      <th>2</th>\n",
       "      <td>4</td>\n",
       "      <td>2016-03-31 17:25:20</td>\n",
       "      <td>Skoda_Fabia_1.4_TDI_PD_Classic</td>\n",
       "      <td>privat</td>\n",
       "      <td>Angebot</td>\n",
       "      <td>3600</td>\n",
       "      <td>test</td>\n",
       "      <td>kleinwagen</td>\n",
       "      <td>2008</td>\n",
       "      <td>manuell</td>\n",
       "      <td>69.0</td>\n",
       "      <td>fabia</td>\n",
       "      <td>90000</td>\n",
       "      <td>7</td>\n",
       "      <td>diesel</td>\n",
       "      <td>skoda</td>\n",
       "      <td>2016-03-31</td>\n",
       "      <td>60437</td>\n",
       "      <td>2016-04-06 10:17:21</td>\n",
       "    </tr>\n",
       "    <tr>\n",
       "      <th>3</th>\n",
       "      <td>5</td>\n",
       "      <td>2016-04-04 17:36:23</td>\n",
       "      <td>BMW_316i___e36_Limousine___Bastlerfahrzeug__Ex...</td>\n",
       "      <td>privat</td>\n",
       "      <td>Angebot</td>\n",
       "      <td>650</td>\n",
       "      <td>test</td>\n",
       "      <td>limousine</td>\n",
       "      <td>1995</td>\n",
       "      <td>manuell</td>\n",
       "      <td>102.0</td>\n",
       "      <td>3er</td>\n",
       "      <td>150000</td>\n",
       "      <td>10</td>\n",
       "      <td>benzin</td>\n",
       "      <td>bmw</td>\n",
       "      <td>2016-04-04</td>\n",
       "      <td>33775</td>\n",
       "      <td>2016-04-06 19:17:07</td>\n",
       "    </tr>\n",
       "    <tr>\n",
       "      <th>4</th>\n",
       "      <td>6</td>\n",
       "      <td>2016-04-01 20:48:51</td>\n",
       "      <td>Peugeot_206_CC_110_Platinum</td>\n",
       "      <td>privat</td>\n",
       "      <td>Angebot</td>\n",
       "      <td>2200</td>\n",
       "      <td>test</td>\n",
       "      <td>cabrio</td>\n",
       "      <td>2004</td>\n",
       "      <td>manuell</td>\n",
       "      <td>109.0</td>\n",
       "      <td>2_reihe</td>\n",
       "      <td>150000</td>\n",
       "      <td>8</td>\n",
       "      <td>benzin</td>\n",
       "      <td>peugeot</td>\n",
       "      <td>2016-04-01</td>\n",
       "      <td>67112</td>\n",
       "      <td>2016-04-05 18:18:39</td>\n",
       "    </tr>\n",
       "  </tbody>\n",
       "</table>\n",
       "</div>"
      ],
      "text/plain": [
       "   Unnamed: 0          dateCrawled   \n",
       "0           2  2016-03-14 12:52:21  \\\n",
       "1           3  2016-03-17 16:54:04   \n",
       "2           4  2016-03-31 17:25:20   \n",
       "3           5  2016-04-04 17:36:23   \n",
       "4           6  2016-04-01 20:48:51   \n",
       "\n",
       "                                                name  seller offerType  price   \n",
       "0                     Jeep_Grand_Cherokee_\"Overland\"  privat   Angebot   9800  \\\n",
       "1                                 GOLF_4_1_4__3TÜRER  privat   Angebot   1500   \n",
       "2                     Skoda_Fabia_1.4_TDI_PD_Classic  privat   Angebot   3600   \n",
       "3  BMW_316i___e36_Limousine___Bastlerfahrzeug__Ex...  privat   Angebot    650   \n",
       "4                        Peugeot_206_CC_110_Platinum  privat   Angebot   2200   \n",
       "\n",
       "  abtest vehicleType  yearOfRegistration    gearbox  powerPS    model   \n",
       "0   test         suv                2004  automatik    163.0    grand  \\\n",
       "1   test  kleinwagen                2001    manuell     75.0     golf   \n",
       "2   test  kleinwagen                2008    manuell     69.0    fabia   \n",
       "3   test   limousine                1995    manuell    102.0      3er   \n",
       "4   test      cabrio                2004    manuell    109.0  2_reihe   \n",
       "\n",
       "   kilometer  monthOfRegistration fuelType       brand dateCreated   \n",
       "0     125000                    8   diesel        jeep  2016-03-14  \\\n",
       "1     150000                    6   benzin  volkswagen  2016-03-17   \n",
       "2      90000                    7   diesel       skoda  2016-03-31   \n",
       "3     150000                   10   benzin         bmw  2016-04-04   \n",
       "4     150000                    8   benzin     peugeot  2016-04-01   \n",
       "\n",
       "   postalCode             lastSeen  \n",
       "0       90480  2016-04-05 12:47:46  \n",
       "1       91074  2016-03-17 17:40:17  \n",
       "2       60437  2016-04-06 10:17:21  \n",
       "3       33775  2016-04-06 19:17:07  \n",
       "4       67112  2016-04-05 18:18:39  "
      ]
     },
     "execution_count": 4,
     "metadata": {},
     "output_type": "execute_result"
    }
   ],
   "source": [
    "df.head()"
   ]
  },
  {
   "cell_type": "markdown",
   "id": "e6530c5a",
   "metadata": {},
   "source": [
    "### Can you tell me the Distribution of Vehicles based on Year of Registration with the help of a plot"
   ]
  },
  {
   "cell_type": "code",
   "execution_count": 240,
   "id": "be58f7c7",
   "metadata": {},
   "outputs": [
    {
     "name": "stdout",
     "output_type": "stream",
     "text": [
      "<class 'pandas.core.frame.DataFrame'>\n",
      "RangeIndex: 280557 entries, 0 to 280556\n",
      "Data columns (total 19 columns):\n",
      " #   Column               Non-Null Count   Dtype  \n",
      "---  ------               --------------   -----  \n",
      " 0   Unnamed: 0           280557 non-null  int64  \n",
      " 1   dateCrawled          280557 non-null  object \n",
      " 2   name                 280557 non-null  object \n",
      " 3   seller               280557 non-null  object \n",
      " 4   offerType            280557 non-null  object \n",
      " 5   price                280557 non-null  int64  \n",
      " 6   abtest               280557 non-null  object \n",
      " 7   vehicleType          280557 non-null  object \n",
      " 8   yearOfRegistration   280557 non-null  int64  \n",
      " 9   gearbox              280557 non-null  object \n",
      " 10  powerPS              280557 non-null  float64\n",
      " 11  model                280557 non-null  object \n",
      " 12  kilometer            280557 non-null  int64  \n",
      " 13  monthOfRegistration  280557 non-null  int64  \n",
      " 14  fuelType             280557 non-null  object \n",
      " 15  brand                280557 non-null  object \n",
      " 16  dateCreated          280557 non-null  object \n",
      " 17  postalCode           280557 non-null  int64  \n",
      " 18  lastSeen             280557 non-null  object \n",
      "dtypes: float64(1), int64(6), object(12)\n",
      "memory usage: 40.7+ MB\n"
     ]
    }
   ],
   "source": [
    "df.info()"
   ]
  },
  {
   "cell_type": "code",
   "execution_count": 5,
   "id": "659835a0",
   "metadata": {},
   "outputs": [
    {
     "data": {
      "text/plain": [
       "<Axes: title={'center': 'Distribution of vehicles based on year'}, ylabel='Density'>"
      ]
     },
     "execution_count": 5,
     "metadata": {},
     "output_type": "execute_result"
    },
    {
     "data": {
      "image/png": "[encoded data removed]",
      "text/plain": [
       "<Figure size 640x480 with 1 Axes>"
      ]
     },
     "metadata": {},
     "output_type": "display_data"
    }
   ],
   "source": [
    "df['yearOfRegistration'].plot(kind='kde',\n",
    "                              xlabel='yearOfRegistration',\n",
    "                              ylabel='count',\n",
    "                              title='Distribution of vehicles based on year')"
   ]
  },
  {
   "cell_type": "markdown",
   "id": "891829a6",
   "metadata": {},
   "source": [
    "* By observing the plot, we can conclude that the data(yearOfRegistration) is not following normal distribution\n",
    "* It is left skewed, more data points on right side "
   ]
  },
  {
   "cell_type": "markdown",
   "id": "3f7f6932",
   "metadata": {},
   "source": [
    "### Create a plot based on the Variation of the price range by the vehicle type"
   ]
  },
  {
   "cell_type": "code",
   "execution_count": 7,
   "id": "08327844",
   "metadata": {},
   "outputs": [
    {
     "data": {
      "text/plain": [
       "<Axes: xlabel='vehicleType'>"
      ]
     },
     "execution_count": 7,
     "metadata": {},
     "output_type": "execute_result"
    },
    {
     "data": {
      "image/png": "[encoded data removed]",
      "text/plain": [
       "<Figure size 640x480 with 1 Axes>"
      ]
     },
     "metadata": {},
     "output_type": "display_data"
    }
   ],
   "source": [
    "df.groupby(by='vehicleType')['price'].mean().sort_values().plot(kind='bar')"
   ]
  },
  {
   "cell_type": "markdown",
   "id": "77986fef",
   "metadata": {},
   "source": [
    "* variation of price range based on vehicle type : the highest price is having by SUV vehicle\n",
    "* The lowest price having by kleinwagen"
   ]
  },
  {
   "cell_type": "markdown",
   "id": "f266bc8b",
   "metadata": {},
   "source": [
    "### Find out Total count of vehicles by type available on ebay for sale.As well as create a visualization for the client"
   ]
  },
  {
   "cell_type": "code",
   "execution_count": 10,
   "id": "8e7d2da2",
   "metadata": {},
   "outputs": [
    {
     "data": {
      "text/plain": [
       "<Axes: xlabel='vehicleType'>"
      ]
     },
     "execution_count": 10,
     "metadata": {},
     "output_type": "execute_result"
    },
    {
     "data": {
      "image/png": "[encoded data removed]",
      "text/plain": [
       "<Figure size 640x480 with 1 Axes>"
      ]
     },
     "metadata": {},
     "output_type": "display_data"
    }
   ],
   "source": [
    "df['vehicleType'].value_counts().plot(kind='bar')"
   ]
  },
  {
   "cell_type": "markdown",
   "id": "6e922a57",
   "metadata": {},
   "source": [
    "* count of vehicles by type : The top 1 count of cars is limousine\n",
    "* The lowest is andere"
   ]
  },
  {
   "cell_type": "markdown",
   "id": "32023c65",
   "metadata": {},
   "source": [
    "### Is there any relationship between dollar_price and kilometer? (Explain with appropriate analysis)"
   ]
  },
  {
   "cell_type": "code",
   "execution_count": 8,
   "id": "07bd6a61",
   "metadata": {},
   "outputs": [
    {
     "data": {
      "text/plain": [
       "<Axes: xlabel='price', ylabel='kilometer'>"
      ]
     },
     "execution_count": 8,
     "metadata": {},
     "output_type": "execute_result"
    },
    {
     "data": {
      "image/png": "[encoded data removed]",
      "text/plain": [
       "<Figure size 640x480 with 1 Axes>"
      ]
     },
     "metadata": {},
     "output_type": "display_data"
    }
   ],
   "source": [
    "df.plot('price','kilometer',kind='scatter')"
   ]
  },
  {
   "cell_type": "code",
   "execution_count": 10,
   "id": "94c82e82",
   "metadata": {},
   "outputs": [
    {
     "data": {
      "text/plain": [
       "<Axes: >"
      ]
     },
     "execution_count": 10,
     "metadata": {},
     "output_type": "execute_result"
    },
    {
     "data": {
      "image/png": "[encoded data removed]",
      "text/plain": [
       "<Figure size 640x480 with 2 Axes>"
      ]
     },
     "metadata": {},
     "output_type": "display_data"
    }
   ],
   "source": [
    "sn.heatmap(df.corr(numeric_only=True),annot= True)"
   ]
  },
  {
   "cell_type": "markdown",
   "id": "1e26d808",
   "metadata": {},
   "source": [
    "* The relation between price and kilometer is negative relation \n",
    "* with -0.38 negative weak relation"
   ]
  }
 ],
 "metadata": {
  "kernelspec": {
   "display_name": "Python 3 (ipykernel)",
   "language": "python",
   "name": "python3"
  },
  "language_info": {
   "codemirror_mode": {
    "name": "ipython",
    "version": 3
   },
   "file_extension": ".py",
   "mimetype": "text/x-python",
   "name": "python",
   "nbconvert_exporter": "python",
   "pygments_lexer": "ipython3",
   "version": "3.11.4"
  }
 },
 "nbformat": 4,
 "nbformat_minor": 5
}
